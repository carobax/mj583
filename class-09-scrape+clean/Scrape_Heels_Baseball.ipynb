{
 "cells": [
  {
   "cell_type": "code",
   "execution_count": 1,
   "metadata": {},
   "outputs": [],
   "source": [
    "import json\n",
    "import re\n",
    "\n",
    "import requests\n",
    "import scrapy"
   ]
  },
  {
   "cell_type": "code",
   "execution_count": 2,
   "metadata": {},
   "outputs": [],
   "source": [
    "headers = {'User-Agent': 'UNC Journo Class'}"
   ]
  },
  {
   "cell_type": "code",
   "execution_count": 3,
   "metadata": {},
   "outputs": [],
   "source": [
    "base_url = 'http://goheels.com'\n",
    "url = base_url + '/roster.aspx?path=baseball'"
   ]
  },
  {
   "cell_type": "code",
   "execution_count": 4,
   "metadata": {},
   "outputs": [],
   "source": [
    "resp = requests.get(url, headers=headers)"
   ]
  },
  {
   "cell_type": "code",
   "execution_count": 5,
   "metadata": {},
   "outputs": [],
   "source": [
    "body_str = resp.content.decode('utf-8')"
   ]
  },
  {
   "cell_type": "code",
   "execution_count": 6,
   "metadata": {},
   "outputs": [],
   "source": [
    "sel = scrapy.Selector(text=body_str)"
   ]
  },
  {
   "cell_type": "code",
   "execution_count": 7,
   "metadata": {},
   "outputs": [],
   "source": [
    "table = sel.css('table')[0]"
   ]
  },
  {
   "cell_type": "code",
   "execution_count": 8,
   "metadata": {},
   "outputs": [
    {
     "data": {
      "text/plain": [
       "<Selector xpath='descendant-or-self::table' data='<table class=\"sidearm-table sidearm-tabl'>"
      ]
     },
     "execution_count": 8,
     "metadata": {},
     "output_type": "execute_result"
    }
   ],
   "source": [
    "table"
   ]
  },
  {
   "cell_type": "code",
   "execution_count": 9,
   "metadata": {},
   "outputs": [],
   "source": [
    "cols = table.css('th').xpath('string()').extract()"
   ]
  },
  {
   "cell_type": "code",
   "execution_count": 10,
   "metadata": {},
   "outputs": [
    {
     "data": {
      "text/plain": [
       "['#',\n",
       " 'Full Name',\n",
       " 'Pos.',\n",
       " 'Ht.',\n",
       " 'Wt.',\n",
       " 'Academic Year',\n",
       " 'Hometown / High School']"
      ]
     },
     "execution_count": 10,
     "metadata": {},
     "output_type": "execute_result"
    }
   ],
   "source": [
    "cols"
   ]
  },
  {
   "cell_type": "code",
   "execution_count": 11,
   "metadata": {},
   "outputs": [],
   "source": [
    "rows = table.css('tr')[1:]"
   ]
  },
  {
   "cell_type": "code",
   "execution_count": 12,
   "metadata": {},
   "outputs": [],
   "source": [
    "players = []\n",
    "for r in rows:\n",
    "    data = {}\n",
    "    for i, d in enumerate(r.css('td')):\n",
    "        a = d.css('a')\n",
    "        if a:\n",
    "            t = a.xpath('text()').extract()[0]\n",
    "            data['href'] = a.xpath('@href').extract()[0]\n",
    "        else:\n",
    "            t = d.xpath('text()').extract()[0]\n",
    "        data[cols[i]] = t\n",
    "    players.append(data)"
   ]
  },
  {
   "cell_type": "code",
   "execution_count": 13,
   "metadata": {},
   "outputs": [
    {
     "data": {
      "text/plain": [
       "[{'#': '1',\n",
       "  'Academic Year': 'Jr.',\n",
       "  'Full Name': 'Brandon Riley',\n",
       "  'Hometown / High School': 'Burlington, N.C. / Williams',\n",
       "  'Ht.': '6-0',\n",
       "  'Pos.': 'OF',\n",
       "  'Wt.': '175',\n",
       "  'href': '/roster.aspx?rp_id=14221'},\n",
       " {'#': '2',\n",
       "  'Academic Year': 'Fr.',\n",
       "  'Full Name': 'Satchel Jerzembeck',\n",
       "  'Hometown / High School': 'Charlotte, N.C. / Providence',\n",
       "  'Ht.': '5-10',\n",
       "  'Pos.': 'IF',\n",
       "  'Wt.': '150',\n",
       "  'href': '/roster.aspx?rp_id=14226'},\n",
       " {'#': '3',\n",
       "  'Academic Year': 'Jr.',\n",
       "  'Full Name': 'Kyle Datres',\n",
       "  'Hometown / High School': 'Williamsport, Pa. / Loyalsock Township',\n",
       "  'Ht.': '6-0',\n",
       "  'Pos.': '3B',\n",
       "  'Wt.': '198',\n",
       "  'href': '/roster.aspx?rp_id=14211'},\n",
       " {'#': '4',\n",
       "  'Academic Year': 'So.',\n",
       "  'Full Name': 'Brandon Martorano',\n",
       "  'Hometown / High School': 'Marlboro, N.J. / Christian Brothers Academy',\n",
       "  'Ht.': '6-2',\n",
       "  'Pos.': 'C/OF',\n",
       "  'Wt.': '187',\n",
       "  'href': '/roster.aspx?rp_id=14219'},\n",
       " {'#': '5',\n",
       "  'Academic Year': 'So.',\n",
       "  'Full Name': 'Ashton McGee',\n",
       "  'Hometown / High School': 'Pikeville, N.C. / C.B. Aycock',\n",
       "  'Ht.': '6-2',\n",
       "  'Pos.': 'OF/2B/3B',\n",
       "  'Wt.': '215',\n",
       "  'href': '/roster.aspx?rp_id=14220'},\n",
       " {'#': '6',\n",
       "  'Academic Year': 'Jr.',\n",
       "  'Full Name': 'Dylan Enwiller',\n",
       "  'Hometown / High School': 'Chandler, Ariz. / Hamilton',\n",
       "  'Ht.': '6-2',\n",
       "  'Pos.': 'OF/2B',\n",
       "  'Wt.': '186',\n",
       "  'href': '/roster.aspx?rp_id=14228'},\n",
       " {'#': '7',\n",
       "  'Academic Year': 'R-So.',\n",
       "  'Full Name': 'Dallas Tessar',\n",
       "  'Hometown / High School': 'Simi Valley, Calif. / Chaminade',\n",
       "  'Ht.': '6-0',\n",
       "  'Pos.': 'SS/OF',\n",
       "  'Wt.': '175',\n",
       "  'href': '/roster.aspx?rp_id=14229'},\n",
       " {'#': '8',\n",
       "  'Academic Year': 'So.',\n",
       "  'Full Name': 'Ike Freeman',\n",
       "  'Hometown / High School': 'Rockwell, N.C. / East Rowan',\n",
       "  'Ht.': '5-10',\n",
       "  'Pos.': 'SS/2B',\n",
       "  'Wt.': '199',\n",
       "  'href': '/roster.aspx?rp_id=14212'},\n",
       " {'#': '10',\n",
       "  'Academic Year': 'Sr.',\n",
       "  'Full Name': 'Zack Gahagan',\n",
       "  'Hometown / High School': 'Fletcher, N.C. / North Henderson',\n",
       "  'Ht.': '6-2',\n",
       "  'Pos.': '1B/3B/2B',\n",
       "  'Wt.': '211',\n",
       "  'href': '/roster.aspx?rp_id=14213'},\n",
       " {'#': '11',\n",
       "  'Academic Year': 'Jr.',\n",
       "  'Full Name': 'Cody Roberts',\n",
       "  'Hometown / High School': 'Johns Creek, Ga. / Blessed Trinity',\n",
       "  'Ht.': '6-0',\n",
       "  'Pos.': 'C',\n",
       "  'Wt.': '202',\n",
       "  'href': '/roster.aspx?rp_id=14222'},\n",
       " {'#': '12',\n",
       "  'Academic Year': 'Jr.',\n",
       "  'Full Name': 'Josh Ladowski',\n",
       "  'Hometown / High School': 'Mooresville, N.C. / Lake Norman',\n",
       "  'Ht.': '5-10',\n",
       "  'Pos.': 'OF',\n",
       "  'Wt.': '193',\n",
       "  'href': '/roster.aspx?rp_id=14218'},\n",
       " {'#': '15',\n",
       "  'Academic Year': 'So.',\n",
       "  'Full Name': 'Michael Busch',\n",
       "  'Hometown / High School': 'Inver Grove Heights, Minn. / Simley',\n",
       "  'Ht.': '5-10',\n",
       "  'Pos.': '1B',\n",
       "  'Wt.': '207',\n",
       "  'href': '/roster.aspx?rp_id=14207'},\n",
       " {'#': '16',\n",
       "  'Academic Year': 'Fr.',\n",
       "  'Full Name': 'Earl Semper',\n",
       "  'Hometown / High School': 'Sunrise, Fla. / St. Thomas Aquinas',\n",
       "  'Ht.': '6-2',\n",
       "  'Pos.': 'OF',\n",
       "  'Wt.': '194',\n",
       "  'href': '/roster.aspx?rp_id=14230'},\n",
       " {'#': '18',\n",
       "  'Academic Year': 'Fr.',\n",
       "  'Full Name': 'Clemente Inclan',\n",
       "  'Hometown / High School': 'Jacksonville, Fla. / Bolles School',\n",
       "  'Ht.': '6-2',\n",
       "  'Pos.': '3B/1B',\n",
       "  'Wt.': '202',\n",
       "  'href': '/roster.aspx?rp_id=14231'},\n",
       " {'#': '19',\n",
       "  'Academic Year': 'Sr.',\n",
       "  'Full Name': 'Brett Daniels',\n",
       "  'Hometown / High School': 'Fuquay-Varina, N.C. / Fuquay-Varina',\n",
       "  'Ht.': '6-0',\n",
       "  'Pos.': 'RHP',\n",
       "  'Wt.': '194',\n",
       "  'href': '/roster.aspx?rp_id=14210'},\n",
       " {'#': '23',\n",
       "  'Academic Year': 'So.',\n",
       "  'Full Name': 'Tyler Baum',\n",
       "  'Hometown / High School': 'Ocoee, Fla. / West Orange',\n",
       "  'Ht.': '6-2',\n",
       "  'Pos.': 'RHP',\n",
       "  'Wt.': '180',\n",
       "  'href': '/roster.aspx?rp_id=14205'},\n",
       " {'#': '24',\n",
       "  'Academic Year': 'R-Jr.',\n",
       "  'Full Name': 'Hansen Butler',\n",
       "  'Hometown / High School': 'High Point, N.C. / High Point Christian',\n",
       "  'Ht.': '5-11',\n",
       "  'Pos.': 'RHP',\n",
       "  'Wt.': '180',\n",
       "  'href': '/roster.aspx?rp_id=14208'},\n",
       " {'#': '25',\n",
       "  'Academic Year': 'Jr.',\n",
       "  'Full Name': 'Taylor Sugg',\n",
       "  'Hometown / High School': 'Greensboro, N.C. / Southern Guilford',\n",
       "  'Ht.': '6-1',\n",
       "  'Pos.': 'RHP',\n",
       "  'Wt.': '175',\n",
       "  'href': '/roster.aspx?rp_id=14223'},\n",
       " {'#': '26',\n",
       "  'Academic Year': 'Jr.',\n",
       "  'Full Name': 'Jackson Hesterlee',\n",
       "  'Hometown / High School': 'Carrollton, Ga. / Carrollton',\n",
       "  'Ht.': '6-4',\n",
       "  'Pos.': 'OF',\n",
       "  'Wt.': '210',\n",
       "  'href': '/roster.aspx?rp_id=14232'},\n",
       " {'#': '27',\n",
       "  'Academic Year': 'R-Jr.',\n",
       "  'Full Name': 'Jason Morgan',\n",
       "  'Hometown / High School': 'Fredericksburg, Va. / Chancellor',\n",
       "  'Ht.': '6-6',\n",
       "  'Pos.': 'RHP',\n",
       "  'Wt.': '213',\n",
       "  'href': '/roster.aspx?rp_id=14241'},\n",
       " {'#': '29',\n",
       "  'Academic Year': 'Jr.',\n",
       "  'Full Name': 'Trevor Gay',\n",
       "  'Hometown / High School': 'High Point, N.C. / High Point Central',\n",
       "  'Ht.': '6-3',\n",
       "  'Pos.': 'RHP',\n",
       "  'Wt.': '199',\n",
       "  'href': '/roster.aspx?rp_id=14214'},\n",
       " {'#': '31',\n",
       "  'Academic Year': 'R-So.',\n",
       "  'Full Name': 'Josh Hiatt',\n",
       "  'Hometown / High School': 'Charlotte, N.C. / Providence',\n",
       "  'Ht.': '5-11',\n",
       "  'Pos.': 'RHP',\n",
       "  'Wt.': '190',\n",
       "  'href': '/roster.aspx?rp_id=14215'},\n",
       " {'#': '34',\n",
       "  'Academic Year': 'Fr.',\n",
       "  'Full Name': \"Caden O'Brien\",\n",
       "  'Hometown / High School': 'Maiden, N.C. / Maiden',\n",
       "  'Ht.': '6-1',\n",
       "  'Pos.': 'LHP',\n",
       "  'Wt.': '190',\n",
       "  'href': '/roster.aspx?rp_id=14233'},\n",
       " {'#': '36',\n",
       "  'Academic Year': 'Fr.',\n",
       "  'Full Name': 'Joey Lancellotti',\n",
       "  'Hometown / High School': 'Bensalem, Pa. / William Penn Charter',\n",
       "  'Ht.': '5-11',\n",
       "  'Pos.': 'RHP/OF',\n",
       "  'Wt.': '205',\n",
       "  'href': '/roster.aspx?rp_id=14234'},\n",
       " {'#': '37',\n",
       "  'Academic Year': 'So.',\n",
       "  'Full Name': 'Bo Weiss',\n",
       "  'Hometown / High School': 'Castle Rock, Colo. / Regis Jesuit',\n",
       "  'Ht.': '6-3',\n",
       "  'Pos.': 'RHP',\n",
       "  'Wt.': '181',\n",
       "  'href': '/roster.aspx?rp_id=14224'},\n",
       " {'#': '38',\n",
       "  'Academic Year': 'So.',\n",
       "  'Full Name': 'Kip Brandenburg',\n",
       "  'Hometown / High School': 'Greensboro, N.C. / Southern Guilford',\n",
       "  'Ht.': '6-5',\n",
       "  'Pos.': 'OF/1B',\n",
       "  'Wt.': '207',\n",
       "  'href': '/roster.aspx?rp_id=14235'},\n",
       " {'#': '39',\n",
       "  'Academic Year': 'Fr.',\n",
       "  'Full Name': 'Kyle Blendinger',\n",
       "  'Hometown / High School': 'High Point, N.C. / Southwest Guilford',\n",
       "  'Ht.': '6-1',\n",
       "  'Pos.': 'RHP',\n",
       "  'Wt.': '185',\n",
       "  'href': '/roster.aspx?rp_id=14236'},\n",
       " {'#': '40',\n",
       "  'Academic Year': 'Fr.',\n",
       "  'Full Name': 'Angel Zarate',\n",
       "  'Hometown / High School': 'Reidsville, N.C. / Rockingham County',\n",
       "  'Ht.': '5-11',\n",
       "  'Pos.': 'OF/LHP',\n",
       "  'Wt.': '180',\n",
       "  'href': '/roster.aspx?rp_id=14237'},\n",
       " {'#': '41',\n",
       "  'Academic Year': 'Jr.',\n",
       "  'Full Name': 'Cooper Criswell',\n",
       "  'Hometown / High School': 'Carrollton, Ga. / Carrollton',\n",
       "  'Ht.': '6-6',\n",
       "  'Pos.': 'RHP',\n",
       "  'Wt.': '200',\n",
       "  'href': '/roster.aspx?rp_id=14238'},\n",
       " {'#': '42',\n",
       "  'Academic Year': 'So.',\n",
       "  'Full Name': 'Gianluca Dalatri',\n",
       "  'Hometown / High School': 'Wall Township, N.J. / Christian Brothers Academy',\n",
       "  'Ht.': '6-6',\n",
       "  'Pos.': 'RHP/DH',\n",
       "  'Wt.': '256',\n",
       "  'href': '/roster.aspx?rp_id=14209'},\n",
       " {'#': '43',\n",
       "  'Academic Year': 'Jr.',\n",
       "  'Full Name': 'Brendan Illies',\n",
       "  'Hometown / High School': 'Edgewood, Wash. / Puyallup',\n",
       "  'Ht.': '6-1',\n",
       "  'Pos.': 'C',\n",
       "  'Wt.': '206',\n",
       "  'href': '/roster.aspx?rp_id=14217'},\n",
       " {'#': '44',\n",
       "  'Academic Year': 'Fr.',\n",
       "  'Full Name': 'Austin Love',\n",
       "  'Hometown / High School': 'Salisbury, N.C. / West Rowan',\n",
       "  'Ht.': '6-3',\n",
       "  'Pos.': 'RHP',\n",
       "  'Wt.': '232',\n",
       "  'href': '/roster.aspx?rp_id=14239'},\n",
       " {'#': '45',\n",
       "  'Academic Year': 'So.',\n",
       "  'Full Name': 'Austin Bergner',\n",
       "  'Hometown / High School': 'Windermere, Fla. / Windermere Prep',\n",
       "  'Ht.': '6-4',\n",
       "  'Pos.': 'RHP',\n",
       "  'Wt.': '200',\n",
       "  'href': '/roster.aspx?rp_id=14206'},\n",
       " {'#': '46',\n",
       "  'Academic Year': 'Fr.',\n",
       "  'Full Name': 'Ben Casparius',\n",
       "  'Hometown / High School': 'Westport, Conn. / Staples',\n",
       "  'Ht.': '6-1',\n",
       "  'Pos.': 'INF/RHP',\n",
       "  'Wt.': '214',\n",
       "  'href': '/roster.aspx?rp_id=14240'},\n",
       " {'#': '48',\n",
       "  'Academic Year': 'Jr.',\n",
       "  'Full Name': 'Rodney Hutchison Jr.',\n",
       "  'Hometown / High School': 'Mason, Ohio / Mason',\n",
       "  'Ht.': '6-6',\n",
       "  'Pos.': 'RHP',\n",
       "  'Wt.': '239',\n",
       "  'href': '/roster.aspx?rp_id=14216'}]"
      ]
     },
     "execution_count": 13,
     "metadata": {},
     "output_type": "execute_result"
    }
   ],
   "source": [
    "players"
   ]
  },
  {
   "cell_type": "code",
   "execution_count": 14,
   "metadata": {},
   "outputs": [],
   "source": [
    "def fetch_bio(player):\n",
    "    player_url = base_url + player['href']\n",
    "    print('Fetch bio', player_url)\n",
    "    resp = requests.get(player_url, headers=headers)\n",
    "    player_txt = resp.content.decode('utf-8')\n",
    "    sel = scrapy.Selector(text=player_txt)\n",
    "    player['sel'] = sel\n",
    "    player['bio'] = sel.css('#sidearm-roster-player-bio').xpath('string()').extract()[0]\n",
    "    player['img'] = sel.css('.sidearm-roster-player-image img').xpath('@src').extract()[0]"
   ]
  },
  {
   "cell_type": "code",
   "execution_count": 15,
   "metadata": {},
   "outputs": [],
   "source": [
    "js_obj_rx = re.compile(r'.*?responsive-roster-bio\\.ashx.*?(?P<obj>{.*?})')"
   ]
  },
  {
   "cell_type": "code",
   "execution_count": 16,
   "metadata": {},
   "outputs": [],
   "source": [
    "def fetch_stats(player):\n",
    "    text = player['sel'].xpath('string()').extract()[0]\n",
    "    parts = text.split('$.getJSON(\"/services/')[1:]\n",
    "    captured = js_obj_rx.findall(''.join(parts))\n",
    "    clean_objs = []\n",
    "    for obj_str in captured:\n",
    "        # We only want the stats object...\n",
    "        if 'stats' not in obj_str:\n",
    "            continue\n",
    "\n",
    "        obj_str = obj_str.replace('{', '').replace('}', '')\n",
    "        obj_str = obj_str.replace(\"'\", '').replace('\"', '')\n",
    "        obj_pairs = obj_str.split(',')\n",
    "        obj_pairs = [x.split(\":\") for x in obj_pairs]\n",
    "        clean_pairs = []\n",
    "        for pair in obj_pairs:\n",
    "            clean_pairs.append(['\"{}\"'.format(p.strip()) for p in pair])\n",
    "        colonized = [\":\".join(p) for p in clean_pairs]\n",
    "        commas = ','.join(colonized)\n",
    "        json_str = \"{\" + commas + \"}\"\n",
    "        clean_objs.append(json.loads(json_str))\n",
    "    \n",
    "    player['stats_url'] = stats_url = (\n",
    "        \"http://goheels.com/services/responsive-roster-bio.ashx?\"\n",
    "        \"type={type}&rp_id={rp_id}&path={path}&year={year}\"\n",
    "        \"&player_id={player_id}\"\n",
    "    ).format(**clean_objs[0])\n",
    "    \n",
    "    print('Fetch stats', stats_url)\n",
    "    resp = requests.get(stats_url, headers=headers)\n",
    "    json_stats = json.loads(resp.content.decode(\"utf-8\"))\n",
    "    player['raw_stats'] = json_stats"
   ]
  },
  {
   "cell_type": "code",
   "execution_count": 17,
   "metadata": {},
   "outputs": [
    {
     "name": "stdout",
     "output_type": "stream",
     "text": [
      "Fetch bio http://goheels.com/roster.aspx?rp_id=14221\n",
      "Fetch stats http://goheels.com/services/responsive-roster-bio.ashx?type=stats&rp_id=14221&path=baseball&year=2018&player_id=0\n",
      "Fetch bio http://goheels.com/roster.aspx?rp_id=14226\n",
      "Fetch stats http://goheels.com/services/responsive-roster-bio.ashx?type=stats&rp_id=14226&path=baseball&year=2018&player_id=0\n",
      "Fetch bio http://goheels.com/roster.aspx?rp_id=14211\n",
      "Fetch stats http://goheels.com/services/responsive-roster-bio.ashx?type=stats&rp_id=14211&path=baseball&year=2018&player_id=0\n",
      "Fetch bio http://goheels.com/roster.aspx?rp_id=14219\n",
      "Fetch stats http://goheels.com/services/responsive-roster-bio.ashx?type=stats&rp_id=14219&path=baseball&year=2018&player_id=0\n",
      "Fetch bio http://goheels.com/roster.aspx?rp_id=14220\n",
      "Fetch stats http://goheels.com/services/responsive-roster-bio.ashx?type=stats&rp_id=14220&path=baseball&year=2018&player_id=0\n",
      "Fetch bio http://goheels.com/roster.aspx?rp_id=14228\n",
      "Fetch stats http://goheels.com/services/responsive-roster-bio.ashx?type=stats&rp_id=14228&path=baseball&year=2018&player_id=0\n",
      "Fetch bio http://goheels.com/roster.aspx?rp_id=14229\n",
      "Fetch stats http://goheels.com/services/responsive-roster-bio.ashx?type=stats&rp_id=14229&path=baseball&year=2018&player_id=0\n",
      "Fetch bio http://goheels.com/roster.aspx?rp_id=14212\n",
      "Fetch stats http://goheels.com/services/responsive-roster-bio.ashx?type=stats&rp_id=14212&path=baseball&year=2018&player_id=0\n",
      "Fetch bio http://goheels.com/roster.aspx?rp_id=14213\n",
      "Fetch stats http://goheels.com/services/responsive-roster-bio.ashx?type=stats&rp_id=14213&path=baseball&year=2018&player_id=0\n",
      "Fetch bio http://goheels.com/roster.aspx?rp_id=14222\n",
      "Fetch stats http://goheels.com/services/responsive-roster-bio.ashx?type=stats&rp_id=14222&path=baseball&year=2018&player_id=0\n",
      "Fetch bio http://goheels.com/roster.aspx?rp_id=14218\n",
      "Fetch stats http://goheels.com/services/responsive-roster-bio.ashx?type=stats&rp_id=14218&path=baseball&year=2018&player_id=0\n",
      "Fetch bio http://goheels.com/roster.aspx?rp_id=14207\n",
      "Fetch stats http://goheels.com/services/responsive-roster-bio.ashx?type=stats&rp_id=14207&path=baseball&year=2018&player_id=0\n",
      "Fetch bio http://goheels.com/roster.aspx?rp_id=14230\n",
      "Fetch stats http://goheels.com/services/responsive-roster-bio.ashx?type=stats&rp_id=14230&path=baseball&year=2018&player_id=0\n",
      "Fetch bio http://goheels.com/roster.aspx?rp_id=14231\n",
      "Fetch stats http://goheels.com/services/responsive-roster-bio.ashx?type=stats&rp_id=14231&path=baseball&year=2018&player_id=0\n",
      "Fetch bio http://goheels.com/roster.aspx?rp_id=14210\n",
      "Fetch stats http://goheels.com/services/responsive-roster-bio.ashx?type=stats&rp_id=14210&path=baseball&year=2018&player_id=0\n",
      "Fetch bio http://goheels.com/roster.aspx?rp_id=14205\n",
      "Fetch stats http://goheels.com/services/responsive-roster-bio.ashx?type=stats&rp_id=14205&path=baseball&year=2018&player_id=0\n",
      "Fetch bio http://goheels.com/roster.aspx?rp_id=14208\n",
      "Fetch stats http://goheels.com/services/responsive-roster-bio.ashx?type=stats&rp_id=14208&path=baseball&year=2018&player_id=0\n",
      "Fetch bio http://goheels.com/roster.aspx?rp_id=14223\n",
      "Fetch stats http://goheels.com/services/responsive-roster-bio.ashx?type=stats&rp_id=14223&path=baseball&year=2018&player_id=0\n",
      "Fetch bio http://goheels.com/roster.aspx?rp_id=14232\n",
      "Fetch stats http://goheels.com/services/responsive-roster-bio.ashx?type=stats&rp_id=14232&path=baseball&year=2018&player_id=0\n",
      "Fetch bio http://goheels.com/roster.aspx?rp_id=14241\n",
      "Fetch stats http://goheels.com/services/responsive-roster-bio.ashx?type=stats&rp_id=14241&path=baseball&year=2018&player_id=0\n",
      "Fetch bio http://goheels.com/roster.aspx?rp_id=14214\n",
      "Fetch stats http://goheels.com/services/responsive-roster-bio.ashx?type=stats&rp_id=14214&path=baseball&year=2018&player_id=0\n",
      "Fetch bio http://goheels.com/roster.aspx?rp_id=14215\n",
      "Fetch stats http://goheels.com/services/responsive-roster-bio.ashx?type=stats&rp_id=14215&path=baseball&year=2018&player_id=0\n",
      "Fetch bio http://goheels.com/roster.aspx?rp_id=14233\n",
      "Fetch stats http://goheels.com/services/responsive-roster-bio.ashx?type=stats&rp_id=14233&path=baseball&year=2018&player_id=0\n",
      "Fetch bio http://goheels.com/roster.aspx?rp_id=14234\n",
      "Fetch stats http://goheels.com/services/responsive-roster-bio.ashx?type=stats&rp_id=14234&path=baseball&year=2018&player_id=0\n",
      "Fetch bio http://goheels.com/roster.aspx?rp_id=14224\n",
      "Fetch stats http://goheels.com/services/responsive-roster-bio.ashx?type=stats&rp_id=14224&path=baseball&year=2018&player_id=0\n",
      "Fetch bio http://goheels.com/roster.aspx?rp_id=14235\n",
      "Fetch stats http://goheels.com/services/responsive-roster-bio.ashx?type=stats&rp_id=14235&path=baseball&year=2018&player_id=0\n",
      "Fetch bio http://goheels.com/roster.aspx?rp_id=14236\n",
      "Fetch stats http://goheels.com/services/responsive-roster-bio.ashx?type=stats&rp_id=14236&path=baseball&year=2018&player_id=0\n",
      "Fetch bio http://goheels.com/roster.aspx?rp_id=14237\n",
      "Fetch stats http://goheels.com/services/responsive-roster-bio.ashx?type=stats&rp_id=14237&path=baseball&year=2018&player_id=0\n",
      "Fetch bio http://goheels.com/roster.aspx?rp_id=14238\n",
      "Fetch stats http://goheels.com/services/responsive-roster-bio.ashx?type=stats&rp_id=14238&path=baseball&year=2018&player_id=0\n",
      "Fetch bio http://goheels.com/roster.aspx?rp_id=14209\n",
      "Fetch stats http://goheels.com/services/responsive-roster-bio.ashx?type=stats&rp_id=14209&path=baseball&year=2018&player_id=0\n",
      "Fetch bio http://goheels.com/roster.aspx?rp_id=14217\n",
      "Fetch stats http://goheels.com/services/responsive-roster-bio.ashx?type=stats&rp_id=14217&path=baseball&year=2018&player_id=0\n",
      "Fetch bio http://goheels.com/roster.aspx?rp_id=14239\n",
      "Fetch stats http://goheels.com/services/responsive-roster-bio.ashx?type=stats&rp_id=14239&path=baseball&year=2018&player_id=0\n",
      "Fetch bio http://goheels.com/roster.aspx?rp_id=14206\n",
      "Fetch stats http://goheels.com/services/responsive-roster-bio.ashx?type=stats&rp_id=14206&path=baseball&year=2018&player_id=0\n",
      "Fetch bio http://goheels.com/roster.aspx?rp_id=14240\n",
      "Fetch stats http://goheels.com/services/responsive-roster-bio.ashx?type=stats&rp_id=14240&path=baseball&year=2018&player_id=0\n",
      "Fetch bio http://goheels.com/roster.aspx?rp_id=14216\n",
      "Fetch stats http://goheels.com/services/responsive-roster-bio.ashx?type=stats&rp_id=14216&path=baseball&year=2018&player_id=0\n"
     ]
    }
   ],
   "source": [
    "for p in players:\n",
    "    fetch_bio(p)\n",
    "    fetch_stats(p)"
   ]
  },
  {
   "cell_type": "code",
   "execution_count": 18,
   "metadata": {},
   "outputs": [
    {
     "data": {
      "text/plain": [
       "{'#': '1',\n",
       " 'Academic Year': 'Jr.',\n",
       " 'Full Name': 'Brandon Riley',\n",
       " 'Hometown / High School': 'Burlington, N.C. / Williams',\n",
       " 'Ht.': '6-0',\n",
       " 'Pos.': 'OF',\n",
       " 'Wt.': '175',\n",
       " 'bio': '\\r\\n                        Biography\\r\\n                                                    \\r\\n                            Dynamic outfielder who figures to be among the team leaders as a junior.\\r\\n\\r\\nSophomore Season (2017)\\r\\nHit .317 with seven homers, nine doubles and a team-high 52 RBIs •\\xa0Also scored 46 runs, drew 37 walks and led the team with five triples, which is tied for 10th-most in UNC history for a single season • Appeared in all 63 games and started 62, primarily in right field • Stole 10 bases in 14 attempts • Had 21 multi-hit games, including a season-high three hits on eight occasions • Also drove in multiple runs 14 times, including a season-best four at ECU on March 22 • Followed up the ECU game with a big series against Miami, recording six hits and driving in four runs with a homer • Earned ACC Player of the Week honors for his efforts • Had eight hits, drove in three runs and scored three times in the NCAA Chapel Hill Regional • Was 2 for 3 with three RBIs in the win over NC State in the ACC tournament •\\xa0Homered in back-to-back games at Pitt and at home against Elon on April 23 and 25 • Stole a career-best three bases against NC State on April 14 • Started his sophomore season with a bang, reaching base in seven of the first eight games, including a three-hit performance in the Opening Day win over Kentucky.\\xa0\\r\\n\\r\\nFreshman Season (2016)\\r\\nSweet-swinging newcomer made an immediate impact in the lineup, starting 51 games at designated hitter and in the outfield • Hit .294 with a team-high 16 doubles, three triples and a homer • Had 17 multi-hit games on the year, including a season-high four hits against Fairfield on March 5 and Davidson on March 29 • Drove in multiple runs eight times, including a season-best four against William & Mary on April 20 • Stole three bases in four attempts, including a steal of home against Gardner-Webb on March 8 • Opened his career with a two-run double at UCLA on Opening Day that helped lift the Tar Heels to a win against the Bruins • Clubbed his first career home run against Fairfield on March 6 • Named to the ACC Academic Honor Roll.\\r\\n\\r\\nWilliams High School\\r\\nFour-time all-conference performer and named first-team all-state as a senior after hitting .460 • Ranked the No. 11 outfielder and the No. 36 overall player in the state of North Carolina by Perfect Game • Also considered the No. 146 outfielder nationally • Earned Underclass High Honorable Mention from PG in 2014 • Named to the all-tournament team at the 2012 PG WWBA Underclass World Championship • Coached by Jason Knapp at Williams.\\r\\n\\r\\nPersonal\\r\\nAlex Brandon Riley is the son of Linda and Jay Riley • Uncle played baseball at UNC • Birthday is Dec. 13 • Has not yet declared a major at Carolina.\\r\\n\\r\\n                        \\r\\n                    ',\n",
       " 'href': '/roster.aspx?rp_id=14221',\n",
       " 'img': '/images/2018/1/31/Riley_Brandon_bb_12.jpg?width=300',\n",
       " 'raw_stats': {'career_stats': '\\r\\n            <section>\\r\\n                <h5>Hitting Statistics</h5>\\r\\n\\r\\n                <div class=\"sidearm-table-overflow-on-x-large\">\\r\\n                    <table class=\"sidearm-table highlight-column-hover\">\\r\\n                        <caption>Career Hitting Statistics</caption>\\r\\n                        <thead>\\r\\n                            <tr>\\r\\n                                <th scope=\"col\" class=\"text-hide\">Season</th>\\r\\n                                <th scope=\"col\">AVG</th>\\r\\n                                <th scope=\"col\">GP</th>\\r\\n                                <th scope=\"col\">GS</th>\\r\\n                                <th scope=\"col\">AB</th>\\r\\n                                <th scope=\"col\">R</th>\\r\\n                                <th scope=\"col\">H</th>\\r\\n                                <th scope=\"col\">2B</th>\\r\\n                                <th scope=\"col\">3B</th>\\r\\n                                <th scope=\"col\">HR</th>\\r\\n                                <th scope=\"col\">RBI</th>\\r\\n                                <th scope=\"col\">SLG%</th>\\r\\n                                <th scope=\"col\">BB</th>\\r\\n                                <th scope=\"col\">HBP</th>\\r\\n                                <th scope=\"col\">SO</th>\\r\\n                                <th scope=\"col\">GDP</th>\\r\\n                                <th scope=\"col\">OB%</th>\\r\\n                                <th scope=\"col\">SF</th>\\r\\n                                <th scope=\"col\">SH</th>\\r\\n                                <th scope=\"col\">SB</th>\\r\\n                                <th scope=\"col\">PO</th>\\r\\n                                <th scope=\"col\">A</th>\\r\\n                                <th scope=\"col\">E</th>\\r\\n                                <th scope=\"col\">FLD%</th>\\r\\n                            </tr>\\r\\n                        </thead>\\r\\n                        <tbody>\\r\\n                            \\r\\n                                <tr>\\r\\n                                    <th scope=\"row\">2016</th>\\r\\n                                    <td class=\"text-center\">.294</td>\\r\\n                                    <td class=\"text-center\">54</td>\\r\\n                                    <td class=\"text-center\">51</td>\\r\\n                                    <td class=\"text-center\">194</td>\\r\\n                                    <td class=\"text-center\">27</td>\\r\\n                                    <td class=\"text-center\">57</td>\\r\\n                                    <td class=\"text-center\">16</td>\\r\\n                                    <td class=\"text-center\">3</td>\\r\\n                                    <td class=\"text-center\">1</td>\\r\\n                                    <td class=\"text-center\">35</td>\\r\\n                                    <td class=\"text-center\">.423</td>\\r\\n                                    <td class=\"text-center\">20</td>\\r\\n                                    <td class=\"text-center\">1</td>\\r\\n                                    <td class=\"text-center\">28</td>\\r\\n                                    <td class=\"text-center\">3</td>\\r\\n                                    <td class=\"text-center\">.355</td>\\r\\n                                    <td class=\"text-center\">5</td>\\r\\n                                    <td class=\"text-center\">2</td>\\r\\n                                    <td class=\"text-center\">3</td>\\r\\n                                    <td class=\"text-center\">13</td>\\r\\n                                    <td class=\"text-center\">0</td>\\r\\n                                    <td class=\"text-center\">1</td>\\r\\n                                    <td class=\"text-center\">.929</td>\\r\\n                                </tr>\\r\\n                            \\r\\n                                <tr>\\r\\n                                    <th scope=\"row\">2017</th>\\r\\n                                    <td class=\"text-center\">.317</td>\\r\\n                                    <td class=\"text-center\">63</td>\\r\\n                                    <td class=\"text-center\">62</td>\\r\\n                                    <td class=\"text-center\">224</td>\\r\\n                                    <td class=\"text-center\">46</td>\\r\\n                                    <td class=\"text-center\">71</td>\\r\\n                                    <td class=\"text-center\">9</td>\\r\\n                                    <td class=\"text-center\">5</td>\\r\\n                                    <td class=\"text-center\">7</td>\\r\\n                                    <td class=\"text-center\">52</td>\\r\\n                                    <td class=\"text-center\">.496</td>\\r\\n                                    <td class=\"text-center\">37</td>\\r\\n                                    <td class=\"text-center\">0</td>\\r\\n                                    <td class=\"text-center\">34</td>\\r\\n                                    <td class=\"text-center\">6</td>\\r\\n                                    <td class=\"text-center\">.406</td>\\r\\n                                    <td class=\"text-center\">5</td>\\r\\n                                    <td class=\"text-center\">2</td>\\r\\n                                    <td class=\"text-center\">10</td>\\r\\n                                    <td class=\"text-center\">106</td>\\r\\n                                    <td class=\"text-center\">1</td>\\r\\n                                    <td class=\"text-center\">4</td>\\r\\n                                    <td class=\"text-center\">.964</td>\\r\\n                                </tr>\\r\\n                            \\r\\n                        </tbody>\\r\\n                        <tfoot>\\r\\n                            <tr>\\r\\n                                <th scope=\"row\">Total</th>\\r\\n                                <td class=\"text-center\">.306</td>\\r\\n                                <td class=\"text-center\">117</td>\\r\\n                                <td class=\"text-center\">113</td>\\r\\n                                <td class=\"text-center\">418</td>\\r\\n                                <td class=\"text-center\">73</td>\\r\\n                                <td class=\"text-center\">128</td>\\r\\n                                <td class=\"text-center\">25</td>\\r\\n                                <td class=\"text-center\">8</td>\\r\\n                                <td class=\"text-center\">8</td>\\r\\n                                <td class=\"text-center\">87</td>\\r\\n                                <td class=\"text-center\">.462</td>\\r\\n                                <td class=\"text-center\">57</td>\\r\\n                                <td class=\"text-center\">1</td>\\r\\n                                <td class=\"text-center\">62</td>\\r\\n                                <td class=\"text-center\">9</td>\\r\\n                                <td class=\"text-center\">.383</td>\\r\\n                                <td class=\"text-center\">10</td>\\r\\n                                <td class=\"text-center\">4</td>\\r\\n                                <td class=\"text-center\">13</td>\\r\\n                                <td class=\"text-center\">119</td>\\r\\n                                <td class=\"text-center\">1</td>\\r\\n                                <td class=\"text-center\">5</td>\\r\\n                                <td class=\"text-center\">.960</td>\\r\\n                            </tr>\\r\\n                        </tfoot>\\r\\n                    </table>    \\r\\n                </div>\\r\\n            </section>\\r\\n        ',\n",
       "  'current_stats': '',\n",
       "  'gamehigh_stats': ''},\n",
       " 'sel': <Selector xpath=None data='<html id=\"ctl00_html\" lang=\"en\" class=\" '>,\n",
       " 'stats_url': 'http://goheels.com/services/responsive-roster-bio.ashx?type=stats&rp_id=14221&path=baseball&year=2018&player_id=0'}"
      ]
     },
     "execution_count": 18,
     "metadata": {},
     "output_type": "execute_result"
    }
   ],
   "source": [
    "players[0]"
   ]
  },
  {
   "cell_type": "code",
   "execution_count": 19,
   "metadata": {},
   "outputs": [],
   "source": [
    "p = [p for p in players if p['Full Name'] == 'Tyler Baum'][0]"
   ]
  },
  {
   "cell_type": "code",
   "execution_count": 20,
   "metadata": {},
   "outputs": [],
   "source": [
    "txt = p['raw_stats']['career_stats']"
   ]
  },
  {
   "cell_type": "code",
   "execution_count": 21,
   "metadata": {},
   "outputs": [],
   "source": [
    "sel = scrapy.Selector(text=txt)"
   ]
  },
  {
   "cell_type": "code",
   "execution_count": 22,
   "metadata": {},
   "outputs": [
    {
     "data": {
      "text/plain": [
       "[<Selector xpath='descendant-or-self::section' data='<section>\\r\\n                <h5>Pitching '>,\n",
       " <Selector xpath='descendant-or-self::section' data='<section>\\r\\n                <h5>Hitting S'>]"
      ]
     },
     "execution_count": 22,
     "metadata": {},
     "output_type": "execute_result"
    }
   ],
   "source": [
    "sel.css('section')"
   ]
  },
  {
   "cell_type": "code",
   "execution_count": 23,
   "metadata": {},
   "outputs": [
    {
     "ename": "KeyError",
     "evalue": "'stats'",
     "output_type": "error",
     "traceback": [
      "\u001b[0;31m\u001b[0m",
      "\u001b[0;31mKeyError\u001b[0mTraceback (most recent call last)",
      "\u001b[0;32m<ipython-input-23-3e394e3df7c6>\u001b[0m in \u001b[0;36m<module>\u001b[0;34m()\u001b[0m\n\u001b[0;32m----> 1\u001b[0;31m \u001b[0;34m[\u001b[0m\u001b[0mx\u001b[0m\u001b[0;34m.\u001b[0m\u001b[0mpop\u001b[0m\u001b[0;34m(\u001b[0m\u001b[0;34m'stats'\u001b[0m\u001b[0;34m)\u001b[0m \u001b[0;32mfor\u001b[0m \u001b[0mx\u001b[0m \u001b[0;32min\u001b[0m \u001b[0mplayers\u001b[0m\u001b[0;34m]\u001b[0m\u001b[0;34m\u001b[0m\u001b[0m\n\u001b[0m",
      "\u001b[0;32m<ipython-input-23-3e394e3df7c6>\u001b[0m in \u001b[0;36m<listcomp>\u001b[0;34m(.0)\u001b[0m\n\u001b[0;32m----> 1\u001b[0;31m \u001b[0;34m[\u001b[0m\u001b[0mx\u001b[0m\u001b[0;34m.\u001b[0m\u001b[0mpop\u001b[0m\u001b[0;34m(\u001b[0m\u001b[0;34m'stats'\u001b[0m\u001b[0;34m)\u001b[0m \u001b[0;32mfor\u001b[0m \u001b[0mx\u001b[0m \u001b[0;32min\u001b[0m \u001b[0mplayers\u001b[0m\u001b[0;34m]\u001b[0m\u001b[0;34m\u001b[0m\u001b[0m\n\u001b[0m",
      "\u001b[0;31mKeyError\u001b[0m: 'stats'"
     ]
    }
   ],
   "source": [
    "[x.pop('stats') for x in players]"
   ]
  },
  {
   "cell_type": "code",
   "execution_count": null,
   "metadata": {},
   "outputs": [],
   "source": [
    "def parse_stats(player):\n",
    "    stats = {}\n",
    "    for raw_key, raw_val in player['raw_stats'].items():\n",
    "        txt = player['raw_stats'][raw_key]\n",
    "        if not txt:\n",
    "            print('Skipping {} for {}'.format(raw_key, player['Full Name']))\n",
    "            continue\n",
    "        sel = scrapy.Selector(text=txt)\n",
    "        # Get all the tables\n",
    "        for section in sel.css('section'):\n",
    "            title = section.css('h5').xpath('string()').extract()[0]\n",
    "            cols = section.css('tr')[0].css('th').xpath('string()').extract()\n",
    "            print('NEW SECTION', title)\n",
    "            print('COLS', cols)\n",
    "            these_stats = []\n",
    "            print('TRS', section.css('tr'))\n",
    "            for r in section.css('tr')[1:]:\n",
    "                print('row', r.xpath('string()').extract()[0].replace('\\r', '').replace('\\n', '').strip())\n",
    "                s = {}\n",
    "                for i, d in enumerate(r.css('td'), 1):\n",
    "                    s[cols[i].lower()] = d.xpath('string()').extract()[0]\n",
    "                yr = r.css('th').xpath('string()')\n",
    "                if yr:\n",
    "                    yr = yr.extract()[0]\n",
    "                    if yr.lower() in ('total', 'season'):\n",
    "                        print('SKIPPING...')\n",
    "                        continue\n",
    "                    print('THE YR IS', yr)\n",
    "                    s['year'] = yr\n",
    "                these_stats.append(s)\n",
    "                print('THE STATS ARE', these_stats)\n",
    "            existing = stats.get(raw_key, {})\n",
    "            existing[title] = these_stats\n",
    "            stats[raw_key] = existing\n",
    "    player['stats'] = stats"
   ]
  },
  {
   "cell_type": "code",
   "execution_count": null,
   "metadata": {},
   "outputs": [],
   "source": [
    "p = [p for p in players if p['Full Name'] == 'Tyler Baum'][0]\n",
    "parse_stats(p)"
   ]
  },
  {
   "cell_type": "code",
   "execution_count": null,
   "metadata": {},
   "outputs": [],
   "source": [
    "for p in players:\n",
    "    parse_stats(p)"
   ]
  },
  {
   "cell_type": "code",
   "execution_count": null,
   "metadata": {},
   "outputs": [],
   "source": [
    "[p for p in players if p['Full Name'] == 'Tyler Baum'][0]['stats']"
   ]
  },
  {
   "cell_type": "code",
   "execution_count": null,
   "metadata": {},
   "outputs": [],
   "source": [
    "to_dump = [p.copy() for p in players]\n",
    "for p in to_dump:\n",
    "    p.pop('sel')\n",
    "    for k in list(p.keys()):\n",
    "        if 'raw' in k:\n",
    "            p.pop(k)\n",
    "with open('scraped_players.json', 'w') as f:\n",
    "    json.dump(to_dump, f)"
   ]
  },
  {
   "cell_type": "code",
   "execution_count": null,
   "metadata": {},
   "outputs": [],
   "source": [
    "cat scraped_players.json | cut -c 1-100"
   ]
  },
  {
   "cell_type": "code",
   "execution_count": null,
   "metadata": {},
   "outputs": [],
   "source": [
    "to_dump[0]"
   ]
  },
  {
   "cell_type": "code",
   "execution_count": null,
   "metadata": {},
   "outputs": [],
   "source": []
  }
 ],
 "metadata": {
  "kernelspec": {
   "display_name": "Python 3",
   "language": "python",
   "name": "python3"
  },
  "language_info": {
   "codemirror_mode": {
    "name": "ipython",
    "version": 3
   },
   "file_extension": ".py",
   "mimetype": "text/x-python",
   "name": "python",
   "nbconvert_exporter": "python",
   "pygments_lexer": "ipython3",
   "version": "3.6.3"
  }
 },
 "nbformat": 4,
 "nbformat_minor": 2
}
